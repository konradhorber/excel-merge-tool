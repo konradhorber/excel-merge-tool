{
 "cells": [
  {
   "cell_type": "code",
   "execution_count": 23,
   "metadata": {},
   "outputs": [],
   "source": [
    "import os\n",
    "import msoffcrypto\n",
    "import io\n",
    "import pandas as pd"
   ]
  },
  {
   "cell_type": "code",
   "execution_count": null,
   "metadata": {},
   "outputs": [],
   "source": [
    "#loop over all the files"
   ]
  },
  {
   "cell_type": "code",
   "execution_count": 5,
   "metadata": {},
   "outputs": [],
   "source": [
    "    #read excel files"
   ]
  },
  {
   "cell_type": "code",
   "execution_count": 13,
   "metadata": {},
   "outputs": [],
   "source": [
    "path = 'data/single_files/'"
   ]
  },
  {
   "cell_type": "code",
   "execution_count": 15,
   "metadata": {},
   "outputs": [],
   "source": [
    "data_source = os.listdir(path=path)"
   ]
  },
  {
   "cell_type": "code",
   "execution_count": 19,
   "metadata": {},
   "outputs": [
    {
     "name": "stdout",
     "output_type": "stream",
     "text": [
      "['data/single_files/FocusDataTemplate_Argentina_v3.xlsx', 'data/single_files/FocusDataTemplate_Australia_v2.xlsx', 'data/single_files/FocusDataTemplate_Belgium_v2.xlsx', 'data/single_files/FocusDataTemplate_Brazil_v3.xlsx', 'data/single_files/FocusDataTemplate_Bulgaria_v2.xlsx']\n"
     ]
    }
   ],
   "source": [
    "for i, file in enumerate(data_source):\n",
    "    data_source[i] = path+file\n",
    "print(data_source)"
   ]
  },
  {
   "cell_type": "code",
   "execution_count": 22,
   "metadata": {},
   "outputs": [],
   "source": [
    "pw = 'OrgBuilderNovember2023!'"
   ]
  },
  {
   "cell_type": "code",
   "execution_count": 28,
   "metadata": {},
   "outputs": [
    {
     "name": "stderr",
     "output_type": "stream",
     "text": [
      "/home/konradhorber/.pyenv/versions/3.10.6/envs/pybase/lib/python3.10/site-packages/openpyxl/worksheet/_reader.py:329: UserWarning: Conditional Formatting extension is not supported and will be removed\n",
      "  warn(msg)\n",
      "/home/konradhorber/.pyenv/versions/3.10.6/envs/pybase/lib/python3.10/site-packages/openpyxl/worksheet/_reader.py:329: UserWarning: Data Validation extension is not supported and will be removed\n",
      "  warn(msg)\n",
      "/home/konradhorber/.pyenv/versions/3.10.6/envs/pybase/lib/python3.10/site-packages/openpyxl/worksheet/_reader.py:329: UserWarning: Conditional Formatting extension is not supported and will be removed\n",
      "  warn(msg)\n",
      "/home/konradhorber/.pyenv/versions/3.10.6/envs/pybase/lib/python3.10/site-packages/openpyxl/worksheet/_reader.py:329: UserWarning: Data Validation extension is not supported and will be removed\n",
      "  warn(msg)\n"
     ]
    }
   ],
   "source": [
    "for file in data_source:\n",
    "    #decrypt workbook\n",
    "    #todo: if password protected\n",
    "    decrypted_workbook = io.BytesIO()\n",
    "    with open(file, 'rb') as excel:\n",
    "        office_excel = msoffcrypto.OfficeFile(excel)\n",
    "        office_excel.load_key(password=pw)\n",
    "        office_excel.decrypt(decrypted_workbook)\n",
    "    df = pd.read_excel(io=decrypted_workbook,\n",
    "                       sheet_name='Data')"
   ]
  },
  {
   "cell_type": "code",
   "execution_count": 29,
   "metadata": {},
   "outputs": [
    {
     "data": {
      "text/plain": [
       "Have all mandatory fields been filled? (YES/NO - automatically filled in by Excel)                                   object\n",
       "Start Date in Company Check (automatically filled out by Excel)                                                      object\n",
       "Cost Center ID Check\\n(automatically filled by Excel)                                                                object\n",
       "Cost Center Check\\n(automatically filled by Excel)                                                                   object\n",
       "Function Check\\n(automatically filled by Excel)                                                                      object\n",
       "Subfunction Check\\n(automatically filled by Excel)                                                                   object\n",
       "Global employee ID                                                                                                   object\n",
       "Local employee ID                                                                                                    object\n",
       "Employee full name                                                                                                   object\n",
       "Global Position ID                                                                                                   object\n",
       "Position / job title                                                                                                 object\n",
       "Supervisor full name                                                                                                 object\n",
       "ELT area                                                                                                             object\n",
       "Country                                                                                                              object\n",
       "Legal entity                                                                                                         object\n",
       "Office/ Plant location                                                                                               object\n",
       "Person FTE                                                                                                          float64\n",
       "PLEASE FILL/VERIFY \\nStart Date in Company (DD/MM/YYYY)                                                      datetime64[ns]\n",
       "PLEASE FILL/VERIFY\\nCost Center ID                                                                                  float64\n",
       "PLEASE FILL / CLEAN AND VERIFY\\nCost Center\\n(Only Cost Center description /name)                                    object\n",
       "PLEASE FILL/VERIFY\\nFunctions                                                                                        object\n",
       "PLEASE FILL/VERIFY\\nSub-function\\n(Please check for right subfunction to function, highlighted in yellow)            object\n",
       "PLEASE FILL/VERIFY\\nContract Type                                                                                    object\n",
       "PLEASE FILL/VERIFY\\nPrimary Nationality                                                                              object\n",
       "PLEASE FILL/VERIFY\\nBirth date\\n(DD/MM/YYYY)\\n(Aged under 18 years are highlighted, please check)            datetime64[ns]\n",
       "Optional EMPLOYEE EXITED?                                                                                           float64\n",
       "dtype: object"
      ]
     },
     "execution_count": 29,
     "metadata": {},
     "output_type": "execute_result"
    }
   ],
   "source": [
    "df.dtypes"
   ]
  },
  {
   "cell_type": "code",
   "execution_count": 3,
   "metadata": {},
   "outputs": [],
   "source": [
    "    #append excel files to each other"
   ]
  },
  {
   "cell_type": "code",
   "execution_count": 4,
   "metadata": {},
   "outputs": [],
   "source": [
    "#output appended excel file"
   ]
  },
  {
   "cell_type": "code",
   "execution_count": null,
   "metadata": {},
   "outputs": [],
   "source": []
  }
 ],
 "metadata": {
  "kernelspec": {
   "display_name": "pybase",
   "language": "python",
   "name": "python3"
  },
  "language_info": {
   "codemirror_mode": {
    "name": "ipython",
    "version": 3
   },
   "file_extension": ".py",
   "mimetype": "text/x-python",
   "name": "python",
   "nbconvert_exporter": "python",
   "pygments_lexer": "ipython3",
   "version": "3.10.6"
  }
 },
 "nbformat": 4,
 "nbformat_minor": 2
}
