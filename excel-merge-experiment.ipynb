{
 "cells": [
  {
   "cell_type": "code",
   "execution_count": 23,
   "metadata": {},
   "outputs": [],
   "source": [
    "import os\n",
    "import msoffcrypto\n",
    "import io\n",
    "import pandas as pd"
   ]
  },
  {
   "cell_type": "code",
   "execution_count": null,
   "metadata": {},
   "outputs": [],
   "source": [
    "#loop over all the files"
   ]
  },
  {
   "cell_type": "code",
   "execution_count": 5,
   "metadata": {},
   "outputs": [],
   "source": [
    "    #read excel files"
   ]
  },
  {
   "cell_type": "code",
   "execution_count": 34,
   "metadata": {},
   "outputs": [],
   "source": [
    "path = 'data/single_files/'"
   ]
  },
  {
   "cell_type": "code",
   "execution_count": 35,
   "metadata": {},
   "outputs": [],
   "source": [
    "data_source = os.listdir(path=path)"
   ]
  },
  {
   "cell_type": "code",
   "execution_count": 36,
   "metadata": {},
   "outputs": [
    {
     "name": "stdout",
     "output_type": "stream",
     "text": [
      "['data/single_files/FocusDataTemplate_Argentina_v3.xlsx', 'data/single_files/FocusDataTemplate_Australia_v2.xlsx', 'data/single_files/FocusDataTemplate_Belgium_v2.xlsx', 'data/single_files/FocusDataTemplate_Brazil_v3.xlsx', 'data/single_files/FocusDataTemplate_Bulgaria_v2.xlsx']\n"
     ]
    }
   ],
   "source": [
    "for i, file in enumerate(data_source):\n",
    "    data_source[i] = path+file"
   ]
  },
  {
   "cell_type": "code",
   "execution_count": 37,
   "metadata": {},
   "outputs": [],
   "source": [
    "pw = 'OrgBuilderNovember2023!'"
   ]
  },
  {
   "cell_type": "code",
   "execution_count": 42,
   "metadata": {},
   "outputs": [
    {
     "name": "stderr",
     "output_type": "stream",
     "text": [
      "/home/konradhorber/.pyenv/versions/3.10.6/envs/pybase/lib/python3.10/site-packages/openpyxl/worksheet/_reader.py:329: UserWarning: Conditional Formatting extension is not supported and will be removed\n",
      "  warn(msg)\n",
      "/home/konradhorber/.pyenv/versions/3.10.6/envs/pybase/lib/python3.10/site-packages/openpyxl/worksheet/_reader.py:329: UserWarning: Data Validation extension is not supported and will be removed\n",
      "  warn(msg)\n",
      "/home/konradhorber/.pyenv/versions/3.10.6/envs/pybase/lib/python3.10/site-packages/openpyxl/worksheet/_reader.py:329: UserWarning: Conditional Formatting extension is not supported and will be removed\n",
      "  warn(msg)\n",
      "/home/konradhorber/.pyenv/versions/3.10.6/envs/pybase/lib/python3.10/site-packages/openpyxl/worksheet/_reader.py:329: UserWarning: Data Validation extension is not supported and will be removed\n",
      "  warn(msg)\n"
     ]
    }
   ],
   "source": [
    "df = pd.DataFrame()\n",
    "for file in data_source:\n",
    "    #decrypt workbook\n",
    "    #todo: if password protected\n",
    "    decrypted_workbook = io.BytesIO()\n",
    "    with open(file, 'rb') as excel:\n",
    "        office_excel = msoffcrypto.OfficeFile(excel)\n",
    "        office_excel.load_key(password=pw)\n",
    "        office_excel.decrypt(decrypted_workbook)\n",
    "        df_append = pd.read_excel(io=decrypted_workbook,\n",
    "                                  sheet_name='Data')\n",
    "        df = pd.concat([df, df_append])"
   ]
  },
  {
   "cell_type": "code",
   "execution_count": null,
   "metadata": {},
   "outputs": [],
   "source": []
  }
 ],
 "metadata": {
  "kernelspec": {
   "display_name": "pybase",
   "language": "python",
   "name": "python3"
  },
  "language_info": {
   "codemirror_mode": {
    "name": "ipython",
    "version": 3
   },
   "file_extension": ".py",
   "mimetype": "text/x-python",
   "name": "python",
   "nbconvert_exporter": "python",
   "pygments_lexer": "ipython3",
   "version": "3.10.6"
  }
 },
 "nbformat": 4,
 "nbformat_minor": 2
}
